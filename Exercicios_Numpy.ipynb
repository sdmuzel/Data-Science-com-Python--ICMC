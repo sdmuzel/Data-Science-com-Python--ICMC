{
  "nbformat": 4,
  "nbformat_minor": 0,
  "metadata": {
    "kernelspec": {
      "display_name": "Python 3",
      "language": "python",
      "name": "python3"
    },
    "language_info": {
      "codemirror_mode": {
        "name": "ipython",
        "version": 3
      },
      "file_extension": ".py",
      "mimetype": "text/x-python",
      "name": "python",
      "nbconvert_exporter": "python",
      "pygments_lexer": "ipython3",
      "version": "3.8.3"
    },
    "colab": {
      "name": "Exercicios_Numpy.ipynb",
      "provenance": [],
      "toc_visible": true
    }
  },
  "cells": [
    {
      "cell_type": "markdown",
      "metadata": {
        "id": "zW03KNbDObFl"
      },
      "source": [
        "# Introdução à Data Science com Python - Data ICMC-USP\n",
        "\n",
        "Esse material foi desenvolvido pelo Data, grupo de extensão de aprendizado e ciência de dados compostos por alunos do Instituto de Ciências Matemáticas e de Computação da USP.\n",
        "\n",
        "Esse notebook é acompanhado de um curso em video, que pode ser encontrado em [aqui](https://www.youtube.com/playlist?list=PLFE-LjWAAP9SfEuLXf3qrpw4szKWjlYq9)\n",
        "\n",
        "Para saber mais sobre as atividades do Data entre no nosso site e nos siga e nossas redes sociais:\n",
        "- [Site](http://data.icmc.usp.br/)\n",
        "- [Twitter](https://twitter.com/data_icmc)\n",
        "- [LinkedIn](https://www.linkedin.com/school/data-icmc/)\n",
        "- [Facebook](https://www.facebook.com/dataICMC/)\n",
        "\n",
        "Aproveite o material!\n",
        "\n",
        "## Exercícios NumPy\n",
        "\n",
        "O objetivo desse notebook é ajudar na fixação dos conteúdos que passamos nas aulas de NumPy. Esse material foi preparado para acompanhar o que foi passado nos videos, e em breve teremos a divulgação das resuluções com um vídeo de explicação."
      ]
    },
    {
      "cell_type": "code",
      "metadata": {
        "collapsed": true,
        "id": "lgXsSfxjObFo"
      },
      "source": [
        "# Importando a biblioteca\n",
        "import numpy as np"
      ],
      "execution_count": null,
      "outputs": []
    },
    {
      "cell_type": "markdown",
      "metadata": {
        "id": "D_jOyGJpObFp"
      },
      "source": [
        "### Arrays"
      ]
    },
    {
      "cell_type": "code",
      "metadata": {
        "id": "jphlf564Ofdq"
      },
      "source": [
        ""
      ],
      "execution_count": null,
      "outputs": []
    },
    {
      "cell_type": "code",
      "metadata": {
        "id": "wyb-K8J8ObFq"
      },
      "source": [
        "a = np.array([1, 2, 3, 4, 5, 6, 7])\n",
        "\n",
        "b = np.array([[1, 2, 3, 4],\n",
        "              [5, 6, 7, 8]])\n",
        "\n",
        "c = np.zeros((3,4))"
      ],
      "execution_count": null,
      "outputs": []
    },
    {
      "cell_type": "code",
      "metadata": {
        "colab": {
          "base_uri": "https://localhost:8080/"
        },
        "id": "B5iNkRsgObFr",
        "outputId": "2a838e74-12a0-42ba-bd82-eec86404fde0"
      },
      "source": [
        "# Pense em qual é a shape de cada um dos arrays acima\n",
        "# Depois de pensar imprima cada um deles para conferir sua resposta\n",
        "\n",
        "print (np.shape(a))\n",
        "print (np.shape(b))\n",
        "print (np.shape(c))"
      ],
      "execution_count": null,
      "outputs": [
        {
          "output_type": "stream",
          "text": [
            "(7,)\n",
            "(2, 4)\n",
            "(3, 4)\n"
          ],
          "name": "stdout"
        }
      ]
    },
    {
      "cell_type": "code",
      "metadata": {
        "colab": {
          "base_uri": "https://localhost:8080/"
        },
        "id": "2bN9pBz6ObFr",
        "outputId": "a5a67c53-e063-494c-a933-a832211d8324"
      },
      "source": [
        "# Crie um array de uma dimenção com 20 elementos inteiros aletórios entre 0 e 23bb\r\n",
        "d= np.random.randint(23, size =(20))\r\n",
        "\r\n",
        "print (np.shape (d))\r\n",
        "\r\n",
        "d"
      ],
      "execution_count": null,
      "outputs": [
        {
          "output_type": "stream",
          "text": [
            "(20,)\n"
          ],
          "name": "stdout"
        },
        {
          "output_type": "execute_result",
          "data": {
            "text/plain": [
              "array([16, 22, 12, 20, 10,  2, 11,  1, 17,  7,  1,  6,  1,  7,  8, 20, 19,\n",
              "        3,  5, 12])"
            ]
          },
          "metadata": {
            "tags": []
          },
          "execution_count": 19
        }
      ]
    },
    {
      "cell_type": "code",
      "metadata": {
        "colab": {
          "base_uri": "https://localhost:8080/"
        },
        "id": "ZrTo2wzaObFs",
        "outputId": "1f956b8e-058e-4482-9cd1-fd80097193f0"
      },
      "source": [
        "# Crie um array de uns com shape (4, 5)\r\n",
        "np.random.random ((4,5))\r\n"
      ],
      "execution_count": null,
      "outputs": [
        {
          "output_type": "execute_result",
          "data": {
            "text/plain": [
              "array([[0.73341779, 0.35987718, 0.82763228, 0.24882814, 0.62736712],\n",
              "       [0.30689685, 0.35887629, 0.6435231 , 0.32972576, 0.05759992],\n",
              "       [0.67207065, 0.94692425, 0.6950105 , 0.41660956, 0.23445555],\n",
              "       [0.1377855 , 0.93853647, 0.27990991, 0.37066362, 0.37941307]])"
            ]
          },
          "metadata": {
            "tags": []
          },
          "execution_count": 21
        }
      ]
    },
    {
      "cell_type": "code",
      "metadata": {
        "colab": {
          "base_uri": "https://localhost:8080/"
        },
        "id": "xw1s6tq8ObFs",
        "outputId": "6073d7eb-a4c6-4988-96de-9940975b0900"
      },
      "source": [
        "# Crie um array shape (4, 2) onde cada entrada vale 77\n",
        "e= np.ones((4,2))\n",
        "print (e)\n",
        "e*77"
      ],
      "execution_count": null,
      "outputs": [
        {
          "output_type": "stream",
          "text": [
            "[[1. 1.]\n",
            " [1. 1.]\n",
            " [1. 1.]\n",
            " [1. 1.]]\n"
          ],
          "name": "stdout"
        },
        {
          "output_type": "execute_result",
          "data": {
            "text/plain": [
              "array([[77., 77.],\n",
              "       [77., 77.],\n",
              "       [77., 77.],\n",
              "       [77., 77.]])"
            ]
          },
          "metadata": {
            "tags": []
          },
          "execution_count": 32
        }
      ]
    },
    {
      "cell_type": "code",
      "metadata": {
        "colab": {
          "base_uri": "https://localhost:8080/"
        },
        "id": "FyPEgN-UW0IP",
        "outputId": "21c226d3-224a-4209-afce-252e3acbca59"
      },
      "source": [
        "np.ones ((4,2)) *77"
      ],
      "execution_count": null,
      "outputs": [
        {
          "output_type": "execute_result",
          "data": {
            "text/plain": [
              "array([[77., 77.],\n",
              "       [77., 77.],\n",
              "       [77., 77.],\n",
              "       [77., 77.]])"
            ]
          },
          "metadata": {
            "tags": []
          },
          "execution_count": 34
        }
      ]
    },
    {
      "cell_type": "code",
      "metadata": {
        "colab": {
          "base_uri": "https://localhost:8080/"
        },
        "id": "38Xsukf6ObFs",
        "outputId": "00d4de0a-c4ae-4458-b3d6-9cf88cff8dff"
      },
      "source": [
        "# Gere um array chamado my_sequence com os numeros 0, 10, 20, 30, ..., 90, 100]\r\n",
        "\r\n",
        "my_sequence = np.array ([0,10,20,30,40,50,60,70,80,90,100])\r\n",
        "my_sequence\r\n"
      ],
      "execution_count": null,
      "outputs": [
        {
          "output_type": "execute_result",
          "data": {
            "text/plain": [
              "array([  0,  10,  20,  30,  40,  50,  60,  70,  80,  90, 100])"
            ]
          },
          "metadata": {
            "tags": []
          },
          "execution_count": 37
        }
      ]
    },
    {
      "cell_type": "markdown",
      "metadata": {
        "id": "wtrq-DipObFt"
      },
      "source": [
        "### Indexando"
      ]
    },
    {
      "cell_type": "code",
      "metadata": {
        "colab": {
          "base_uri": "https://localhost:8080/"
        },
        "id": "gn8Yf8-0ObFt",
        "outputId": "fc79bbcf-88e9-4611-c54c-3fdf2089cd4f"
      },
      "source": [
        "my_array = np.random.randint(50, size=(15,))\n",
        "print(my_array)"
      ],
      "execution_count": null,
      "outputs": [
        {
          "output_type": "stream",
          "text": [
            "[ 5  4 18 21  9 35 17 23 29 28 13 46  8  6 33]\n"
          ],
          "name": "stdout"
        }
      ]
    },
    {
      "cell_type": "code",
      "metadata": {
        "colab": {
          "base_uri": "https://localhost:8080/"
        },
        "id": "t7viDRJEObFt",
        "outputId": "30617e09-4d9f-4bf5-8810-be543d2cad94"
      },
      "source": [
        "# Selecione todos os elementos entre o quinto e o decimo primeiro (intervalo fechado)\r\n",
        "my_array [5:12]"
      ],
      "execution_count": null,
      "outputs": [
        {
          "output_type": "execute_result",
          "data": {
            "text/plain": [
              "array([35, 17, 23, 29, 28, 13, 46])"
            ]
          },
          "metadata": {
            "tags": []
          },
          "execution_count": 43
        }
      ]
    },
    {
      "cell_type": "code",
      "metadata": {
        "colab": {
          "base_uri": "https://localhost:8080/"
        },
        "id": "28lXw6vqObFt",
        "outputId": "7acec585-6c03-452b-9f9a-0a14f4cb0b8d"
      },
      "source": [
        "# Selecione todos os elementos maiores que 20\r\n",
        "m_20= my_array>20\r\n",
        "my_array [m_20]\r\n"
      ],
      "execution_count": null,
      "outputs": [
        {
          "output_type": "execute_result",
          "data": {
            "text/plain": [
              "array([21, 35, 23, 29, 28, 46, 33])"
            ]
          },
          "metadata": {
            "tags": []
          },
          "execution_count": 46
        }
      ]
    },
    {
      "cell_type": "code",
      "metadata": {
        "colab": {
          "base_uri": "https://localhost:8080/"
        },
        "id": "1u3d7gHymgBv",
        "outputId": "a7757f34-625f-458e-abd0-fe85d7a7d551"
      },
      "source": [
        "maior_que_20 = my_array > 20\r\n",
        "print(maior_que_20)\r\n",
        "valores = my_array[maior_que_20]\r\n",
        "print(valores)"
      ],
      "execution_count": 50,
      "outputs": [
        {
          "output_type": "stream",
          "text": [
            "[False False False  True False  True False  True  True  True False  True\n",
            " False False  True]\n",
            "[21 35 23 29 28 46 33]\n"
          ],
          "name": "stdout"
        }
      ]
    },
    {
      "cell_type": "code",
      "metadata": {
        "collapsed": true,
        "id": "3AP5EQowObFu"
      },
      "source": [
        "my_matrix = np.array([[1, 2, 3, 4],\n",
        "                      [5, 6, 7, 8],\n",
        "                      [9, 10, 11, 12],\n",
        "                      [13, 14, 15, 16]])"
      ],
      "execution_count": 51,
      "outputs": []
    },
    {
      "cell_type": "code",
      "metadata": {
        "collapsed": true,
        "id": "a3We9HUBObFu",
        "colab": {
          "base_uri": "https://localhost:8080/"
        },
        "outputId": "7bc0463e-55d2-4cf6-aa4a-54cfc8682830"
      },
      "source": [
        "# Selecione o elemento na primeira linha da terceira coluna\r\n",
        "my_matrix [0,2]"
      ],
      "execution_count": 54,
      "outputs": [
        {
          "output_type": "execute_result",
          "data": {
            "text/plain": [
              "3"
            ]
          },
          "metadata": {
            "tags": []
          },
          "execution_count": 54
        }
      ]
    },
    {
      "cell_type": "code",
      "metadata": {
        "collapsed": true,
        "id": "gKKkz7MRObFu",
        "colab": {
          "base_uri": "https://localhost:8080/"
        },
        "outputId": "ef327fcd-28ce-449f-eca9-8d3186e47d5b"
      },
      "source": [
        "# Selecione o elemento na primeira linha da ultima coluna\r\n",
        "my_matrix [0,3]"
      ],
      "execution_count": 55,
      "outputs": [
        {
          "output_type": "execute_result",
          "data": {
            "text/plain": [
              "4"
            ]
          },
          "metadata": {
            "tags": []
          },
          "execution_count": 55
        }
      ]
    },
    {
      "cell_type": "code",
      "metadata": {
        "collapsed": true,
        "id": "IBVbF8djObFv",
        "colab": {
          "base_uri": "https://localhost:8080/"
        },
        "outputId": "034ac1e1-3e10-48b1-f6f1-3a2470d28770"
      },
      "source": [
        "# Selecione os elementos da matriz para obter o seguinte\n",
        "# [[6, 7] e [10, 11]]\n",
        "\n",
        "my_matrix [1:3, 1:3]"
      ],
      "execution_count": 64,
      "outputs": [
        {
          "output_type": "execute_result",
          "data": {
            "text/plain": [
              "array([[ 6,  7],\n",
              "       [10, 11]])"
            ]
          },
          "metadata": {
            "tags": []
          },
          "execution_count": 64
        }
      ]
    },
    {
      "cell_type": "code",
      "metadata": {
        "collapsed": true,
        "id": "9p1v3jqOObFv",
        "colab": {
          "base_uri": "https://localhost:8080/"
        },
        "outputId": "0bcc8666-0b24-42d7-a8ec-02a61548cfac"
      },
      "source": [
        "# Selecione os elementos da matriz para obter o seguinte\n",
        "# [[2, 3, 4] e [6, 7, 8]]\n",
        "\n",
        "my_matrix [0:2, 1:4]"
      ],
      "execution_count": 63,
      "outputs": [
        {
          "output_type": "execute_result",
          "data": {
            "text/plain": [
              "array([[2, 3, 4],\n",
              "       [6, 7, 8]])"
            ]
          },
          "metadata": {
            "tags": []
          },
          "execution_count": 63
        }
      ]
    },
    {
      "cell_type": "code",
      "metadata": {
        "collapsed": true,
        "id": "rP5e-eM3ObFv",
        "colab": {
          "base_uri": "https://localhost:8080/"
        },
        "outputId": "fea41cb3-3140-40a0-c33a-f8444aff5708"
      },
      "source": [
        "# Selecione os elementos da ultima coluna inteira\r\n",
        "\r\n",
        "my_matrix [:, 3]"
      ],
      "execution_count": 71,
      "outputs": [
        {
          "output_type": "execute_result",
          "data": {
            "text/plain": [
              "array([ 4,  8, 12, 16])"
            ]
          },
          "metadata": {
            "tags": []
          },
          "execution_count": 71
        }
      ]
    },
    {
      "cell_type": "code",
      "metadata": {
        "collapsed": true,
        "id": "cbzVzwvNObFw",
        "colab": {
          "base_uri": "https://localhost:8080/"
        },
        "outputId": "97d4e63c-f178-46bb-ae3f-7b5949000d49"
      },
      "source": [
        "# Selecione os elementos da 2a linha inteira\r\n",
        "my_matrix [1, :]"
      ],
      "execution_count": 72,
      "outputs": [
        {
          "output_type": "execute_result",
          "data": {
            "text/plain": [
              "array([5, 6, 7, 8])"
            ]
          },
          "metadata": {
            "tags": []
          },
          "execution_count": 72
        }
      ]
    },
    {
      "cell_type": "markdown",
      "metadata": {
        "id": "G7bsXvjCObFx"
      },
      "source": [
        "### Operações"
      ]
    },
    {
      "cell_type": "code",
      "metadata": {
        "id": "aSnJwI0cObFx",
        "colab": {
          "base_uri": "https://localhost:8080/"
        },
        "outputId": "ac8b2a8d-47d5-474c-fe49-3cb5839b3917"
      },
      "source": [
        "my_array = np.random.randint(10, size=(5,))\n",
        "print(my_array)"
      ],
      "execution_count": 75,
      "outputs": [
        {
          "output_type": "stream",
          "text": [
            "[0 5 7 3 6]\n"
          ],
          "name": "stdout"
        }
      ]
    },
    {
      "cell_type": "code",
      "metadata": {
        "collapsed": true,
        "id": "CeleRoivObFy",
        "colab": {
          "base_uri": "https://localhost:8080/"
        },
        "outputId": "196f269d-c1f6-4e52-f9b4-34a263ed2aad"
      },
      "source": [
        "# Some 10 a todos os elementos de my_array\r\n",
        "\r\n",
        "my_array +10"
      ],
      "execution_count": 76,
      "outputs": [
        {
          "output_type": "execute_result",
          "data": {
            "text/plain": [
              "array([10, 15, 17, 13, 16])"
            ]
          },
          "metadata": {
            "tags": []
          },
          "execution_count": 76
        }
      ]
    },
    {
      "cell_type": "code",
      "metadata": {
        "collapsed": true,
        "id": "VljGLSL9ObFy",
        "colab": {
          "base_uri": "https://localhost:8080/"
        },
        "outputId": "7069c3ad-52bc-4171-f270-c1375b3c1cb4"
      },
      "source": [
        "# Multiplique todos os elementos de my_array por 4\r\n",
        "my_array *4"
      ],
      "execution_count": 77,
      "outputs": [
        {
          "output_type": "execute_result",
          "data": {
            "text/plain": [
              "array([ 0, 20, 28, 12, 24])"
            ]
          },
          "metadata": {
            "tags": []
          },
          "execution_count": 77
        }
      ]
    },
    {
      "cell_type": "code",
      "metadata": {
        "collapsed": true,
        "id": "lHuhQCiFObFy",
        "colab": {
          "base_uri": "https://localhost:8080/"
        },
        "outputId": "5f74e35a-ecaf-46ad-ab65-16b423d75ce2"
      },
      "source": [
        "# Obtenha a soma de todos os elementos de my_array\r\n",
        "my_array.sum ()\r\n"
      ],
      "execution_count": 79,
      "outputs": [
        {
          "output_type": "execute_result",
          "data": {
            "text/plain": [
              "21"
            ]
          },
          "metadata": {
            "tags": []
          },
          "execution_count": 79
        }
      ]
    },
    {
      "cell_type": "code",
      "metadata": {
        "colab": {
          "base_uri": "https://localhost:8080/"
        },
        "id": "2ncWUqdlNtiy",
        "outputId": "2d970bbd-5967-41a8-81f6-509f095c60a7"
      },
      "source": [
        "np.sum (my_array)"
      ],
      "execution_count": 80,
      "outputs": [
        {
          "output_type": "execute_result",
          "data": {
            "text/plain": [
              "21"
            ]
          },
          "metadata": {
            "tags": []
          },
          "execution_count": 80
        }
      ]
    },
    {
      "cell_type": "code",
      "metadata": {
        "collapsed": true,
        "id": "1TrqG-orObFz",
        "colab": {
          "base_uri": "https://localhost:8080/"
        },
        "outputId": "705754c2-1ffe-418f-f31b-ebcc1401553b"
      },
      "source": [
        "# Obtenha a média de todos os elementos de my_array\r\n",
        "my_array.mean()"
      ],
      "execution_count": 83,
      "outputs": [
        {
          "output_type": "execute_result",
          "data": {
            "text/plain": [
              "4.2"
            ]
          },
          "metadata": {
            "tags": []
          },
          "execution_count": 83
        }
      ]
    },
    {
      "cell_type": "code",
      "metadata": {
        "colab": {
          "base_uri": "https://localhost:8080/"
        },
        "id": "MAbA5nCENwkA",
        "outputId": "1a87ed1d-ceb1-4ae6-925f-c7b997890b1d"
      },
      "source": [
        "np.mean(my_array)"
      ],
      "execution_count": 81,
      "outputs": [
        {
          "output_type": "execute_result",
          "data": {
            "text/plain": [
              "4.2"
            ]
          },
          "metadata": {
            "tags": []
          },
          "execution_count": 81
        }
      ]
    },
    {
      "cell_type": "code",
      "metadata": {
        "collapsed": true,
        "id": "x7c4r0xlObFz",
        "colab": {
          "base_uri": "https://localhost:8080/"
        },
        "outputId": "2a437fc3-c5f7-4707-963b-d1d8d3eb06e5"
      },
      "source": [
        "# Obtenha o indice do maior elemento de my_array\r\n",
        "my_array.max()"
      ],
      "execution_count": 84,
      "outputs": [
        {
          "output_type": "execute_result",
          "data": {
            "text/plain": [
              "7"
            ]
          },
          "metadata": {
            "tags": []
          },
          "execution_count": 84
        }
      ]
    },
    {
      "cell_type": "code",
      "metadata": {
        "colab": {
          "base_uri": "https://localhost:8080/"
        },
        "id": "9FBoWSQQPVBE",
        "outputId": "f6fe0827-2383-4c0a-cdbb-cb7074c46415"
      },
      "source": [
        "np.max (my_array)"
      ],
      "execution_count": 85,
      "outputs": [
        {
          "output_type": "execute_result",
          "data": {
            "text/plain": [
              "7"
            ]
          },
          "metadata": {
            "tags": []
          },
          "execution_count": 85
        }
      ]
    },
    {
      "cell_type": "code",
      "metadata": {
        "id": "VLlNxRjKObFz",
        "colab": {
          "base_uri": "https://localhost:8080/"
        },
        "outputId": "7c6bccca-bc78-4268-d19a-aa07547f9c9b"
      },
      "source": [
        "my_array = np.random.randint(10, size=(5,))\n",
        "my_other_array = np.random.randint(10, size=(5,))\n",
        "print(my_array, '\\n')\n",
        "print(my_other_array)"
      ],
      "execution_count": 109,
      "outputs": [
        {
          "output_type": "stream",
          "text": [
            "[2 7 1 0 6] \n",
            "\n",
            "[8 4 5 8 0]\n"
          ],
          "name": "stdout"
        }
      ]
    },
    {
      "cell_type": "code",
      "metadata": {
        "collapsed": true,
        "id": "7KI7MqD0ObFz",
        "colab": {
          "base_uri": "https://localhost:8080/"
        },
        "outputId": "4301ffe8-d65b-4cd0-fdef-e3210af4efb1"
      },
      "source": [
        "# Some my_array elemento por elemento em cada linha de my_other_array\r\n",
        "my_array + my_other_array\r\n"
      ],
      "execution_count": 87,
      "outputs": [
        {
          "output_type": "execute_result",
          "data": {
            "text/plain": [
              "array([15,  1,  5,  2, 13])"
            ]
          },
          "metadata": {
            "tags": []
          },
          "execution_count": 87
        }
      ]
    },
    {
      "cell_type": "code",
      "metadata": {
        "colab": {
          "base_uri": "https://localhost:8080/"
        },
        "id": "0_EwROnkVLHS",
        "outputId": "58bb2268-9760-421c-ecfe-ba64cd036766"
      },
      "source": [
        "# Faça a multiplicação entre my_other_array e my_array\r\n",
        "\r\n",
        "# como nesse caso as matrizes tem o mesmo formato posso usar tando o dot() quanto o multiply()\r\n",
        "\r\n",
        "# dot()-> produto das 2 matrizes\r\n",
        "# multiply()-> multiplicação elemento a elemento das 2 matrizes\r\n",
        "\r\n",
        "\r\n",
        "print (np.multiply(my_other_array,my_array))\r\n",
        "\r\n",
        "print (np.multiply(my_array, my_other_array))\r\n",
        "\r\n",
        "print (np.dot(my_other_array,my_array))"
      ],
      "execution_count": 113,
      "outputs": [
        {
          "output_type": "stream",
          "text": [
            "[16 28  5  0  0]\n",
            "[16 28  5  0  0]\n",
            "49\n"
          ],
          "name": "stdout"
        }
      ]
    },
    {
      "cell_type": "code",
      "metadata": {
        "id": "hb-0UG15ObF0",
        "colab": {
          "base_uri": "https://localhost:8080/"
        },
        "outputId": "c14dd2d7-95e8-4051-864c-55276930829f"
      },
      "source": [
        "my_array = np.random.randint(10, size=(5,4))\n",
        "my_other_array = np.random.randint(10, size=(10,5))\n",
        "print(my_array, '\\n')\n",
        "print(my_other_array)"
      ],
      "execution_count": 114,
      "outputs": [
        {
          "output_type": "stream",
          "text": [
            "[[4 2 0 7]\n",
            " [2 2 8 9]\n",
            " [9 0 3 0]\n",
            " [3 0 4 3]\n",
            " [2 7 7 1]] \n",
            "\n",
            "[[0 3 0 6 2]\n",
            " [3 4 9 1 8]\n",
            " [1 0 9 4 1]\n",
            " [2 8 6 0 5]\n",
            " [7 2 7 9 4]\n",
            " [5 2 0 3 2]\n",
            " [9 7 4 5 0]\n",
            " [4 1 1 5 9]\n",
            " [0 8 1 1 7]\n",
            " [2 8 1 7 1]]\n"
          ],
          "name": "stdout"
        }
      ]
    },
    {
      "cell_type": "code",
      "metadata": {
        "collapsed": true,
        "id": "uQOz_o-IObF0",
        "colab": {
          "base_uri": "https://localhost:8080/"
        },
        "outputId": "a0f819da-c6c5-4e01-c509-b4eeeda678f2"
      },
      "source": [
        "# Faça a multiplicação entre my_other_array e my_array\r\n",
        "print('Shapes:', my_array.shape, my_other_array.shape)\r\n",
        "\r\n",
        "# para esses formatos não posso multiplicar as matrizes usando a seqencia  my_array, my_other_array. \r\n",
        "#tenho que fazer casar o 5 com o 5 das matrizes\r\n",
        "np.dot(my_other_array, my_array)"
      ],
      "execution_count": 100,
      "outputs": [
        {
          "output_type": "stream",
          "text": [
            "Shapes: (5, 4) (10, 5)\n"
          ],
          "name": "stdout"
        },
        {
          "output_type": "execute_result",
          "data": {
            "text/plain": [
              "array([[ 69,  87, 104,  60],\n",
              "       [123, 122, 118, 120],\n",
              "       [ 84, 118,  66,  71],\n",
              "       [148, 174, 145, 153],\n",
              "       [138, 139, 122, 149],\n",
              "       [164, 160, 128, 171],\n",
              "       [128, 127, 115,  95],\n",
              "       [107, 118,  78, 101],\n",
              "       [ 80,  57,  41, 108],\n",
              "       [ 61,  88,  52,  28]])"
            ]
          },
          "metadata": {
            "tags": []
          },
          "execution_count": 100
        }
      ]
    },
    {
      "cell_type": "code",
      "metadata": {
        "collapsed": true,
        "id": "dFybOlOmObF0",
        "colab": {
          "base_uri": "https://localhost:8080/"
        },
        "outputId": "50144f3b-8a6a-459e-b11f-a4ed04954ce0"
      },
      "source": [
        "# Descubra a soma dos valores de cada linha de my_other_array\n",
        "\n",
        "#AXIS-> linha =1 e coluna =0\n",
        "np.sum (my_other_array, axis = 1)"
      ],
      "execution_count": 116,
      "outputs": [
        {
          "output_type": "execute_result",
          "data": {
            "text/plain": [
              "array([11, 25, 15, 21, 29, 12, 25, 20, 17, 19])"
            ]
          },
          "metadata": {
            "tags": []
          },
          "execution_count": 116
        }
      ]
    },
    {
      "cell_type": "code",
      "metadata": {
        "id": "YWv1csNNObF0",
        "colab": {
          "base_uri": "https://localhost:8080/"
        },
        "outputId": "1a21b74f-61c7-4821-bade-718fe46c27a5"
      },
      "source": [
        "my_array = np.random.randint(10, size=(5,4))\n",
        "print(my_array)"
      ],
      "execution_count": 129,
      "outputs": [
        {
          "output_type": "stream",
          "text": [
            "[[9 4 2 9]\n",
            " [9 6 3 7]\n",
            " [2 3 2 8]\n",
            " [5 7 4 8]\n",
            " [7 9 6 5]]\n"
          ],
          "name": "stdout"
        }
      ]
    },
    {
      "cell_type": "code",
      "metadata": {
        "collapsed": true,
        "id": "-ostgjVBObF0",
        "colab": {
          "base_uri": "https://localhost:8080/"
        },
        "outputId": "0eac816d-bee1-4746-8bbd-6b0e21729454"
      },
      "source": [
        "# Usando reshape transforme a matriz acima em um vetor (Concatendo a linha de baixo na de cima)\r\n",
        "\r\n",
        "my_array.reshape(20,)"
      ],
      "execution_count": 130,
      "outputs": [
        {
          "output_type": "execute_result",
          "data": {
            "text/plain": [
              "array([9, 4, 2, 9, 9, 6, 3, 7, 2, 3, 2, 8, 5, 7, 4, 8, 7, 9, 6, 5])"
            ]
          },
          "metadata": {
            "tags": []
          },
          "execution_count": 130
        }
      ]
    },
    {
      "cell_type": "code",
      "metadata": {
        "id": "njcrmiriObF1",
        "colab": {
          "base_uri": "https://localhost:8080/"
        },
        "outputId": "caeb52ba-c12d-41a1-c996-f304d24832f3"
      },
      "source": [
        "np.array([[ 0,  1,  2,  3,  4,  5,  6,  7],\n",
        "          [ 8,  9, 10, 11, 12, 13, 14, 15]])"
      ],
      "execution_count": 131,
      "outputs": [
        {
          "output_type": "execute_result",
          "data": {
            "text/plain": [
              "array([[ 0,  1,  2,  3,  4,  5,  6,  7],\n",
              "       [ 8,  9, 10, 11, 12, 13, 14, 15]])"
            ]
          },
          "metadata": {
            "tags": []
          },
          "execution_count": 131
        }
      ]
    },
    {
      "cell_type": "code",
      "metadata": {
        "collapsed": true,
        "id": "kkVMhAl5ObF1",
        "colab": {
          "base_uri": "https://localhost:8080/"
        },
        "outputId": "c329b9cc-45c3-4695-fa86-89719876fc10"
      },
      "source": [
        "# Gere a array anterior usando np.arange e a função reshapea\r\n",
        "a= np.arange(16)\r\n",
        "print (a)\r\n",
        "\r\n",
        "print ('\\n')\r\n",
        "b= a.reshape(2,8)\r\n",
        "print (b)\r\n",
        "\r\n"
      ],
      "execution_count": 145,
      "outputs": [
        {
          "output_type": "stream",
          "text": [
            "[ 0  1  2  3  4  5  6  7  8  9 10 11 12 13 14 15]\n",
            "\n",
            "\n",
            "[[ 0  1  2  3  4  5  6  7]\n",
            " [ 8  9 10 11 12 13 14 15]]\n"
          ],
          "name": "stdout"
        }
      ]
    }
  ]
}