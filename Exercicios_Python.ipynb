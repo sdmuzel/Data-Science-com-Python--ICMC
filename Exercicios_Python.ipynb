{
  "nbformat": 4,
  "nbformat_minor": 0,
  "metadata": {
    "kernelspec": {
      "display_name": "Python 3",
      "language": "python",
      "name": "python3"
    },
    "language_info": {
      "codemirror_mode": {
        "name": "ipython",
        "version": 3
      },
      "file_extension": ".py",
      "mimetype": "text/x-python",
      "name": "python",
      "nbconvert_exporter": "python",
      "pygments_lexer": "ipython3",
      "version": "3.8.5-final"
    },
    "colab": {
      "name": "Exercicios_Python.ipynb",
      "provenance": []
    }
  },
  "cells": [
    {
      "cell_type": "markdown",
      "metadata": {
        "id": "E7fELRThOZ1e"
      },
      "source": [
        "# Introdução à Data Science com Python - Data ICMC-USP\n",
        "\n",
        "Esse material foi desenvolvido pelo Data, grupo de extensão de aprendizado e ciência de dados compostos por alunos do Instituto de Ciências Matemáticas e de Computação da USP.\n",
        "\n",
        "Esse notebook é acompanhado de um curso em video, que pode ser encontrado em [aqui](https://www.youtube.com/playlist?list=PLFE-LjWAAP9SfEuLXf3qrpw4szKWjlYq9)\n",
        "\n",
        "Para saber mais sobre as atividades do Data entre no nosso site e nos siga e nossas redes sociais:\n",
        "- [Site](http://data.icmc.usp.br/)\n",
        "- [Twitter](https://twitter.com/data_icmc)\n",
        "- [LinkedIn](https://www.linkedin.com/school/data-icmc/)\n",
        "- [Facebook](https://www.facebook.com/dataICMC/)\n",
        "\n",
        "Aproveite o material!\n",
        "\n",
        "## Exercícios Python\n",
        "\n",
        "O objetivo desse notebook é ajudar na fixação dos conteúdos que passamos nas aulas de Python. Esse material foi preparado para acompanhar o que foi passado nos videos, e em breve teremos a divulgação das resuluções com um vídeo de explicação."
      ]
    },
    {
      "cell_type": "markdown",
      "metadata": {
        "id": "iyE27wdVOZ1l"
      },
      "source": [
        "### Variáveis"
      ]
    },
    {
      "cell_type": "code",
      "metadata": {
        "collapsed": true,
        "id": "BCB_8QYlOZ1m"
      },
      "source": [
        "# Declare uma variavel chamada a e atribua o valor 10 a ela\r\n",
        "\r\n",
        "a=10"
      ],
      "execution_count": null,
      "outputs": []
    },
    {
      "cell_type": "code",
      "metadata": {
        "collapsed": true,
        "id": "46-etoR_OZ1n",
        "colab": {
          "base_uri": "https://localhost:8080/"
        },
        "outputId": "321b0d3c-8c5d-475f-db64-7d04fdb76eef"
      },
      "source": [
        "# Imprime essa variavel que você acabou de criar\r\n",
        "a"
      ],
      "execution_count": null,
      "outputs": [
        {
          "output_type": "execute_result",
          "data": {
            "text/plain": [
              "10"
            ]
          },
          "metadata": {
            "tags": []
          },
          "execution_count": 3
        }
      ]
    },
    {
      "cell_type": "code",
      "metadata": {
        "collapsed": true,
        "id": "xY2MQl-4OZ1n",
        "colab": {
          "base_uri": "https://localhost:8080/",
          "height": 35
        },
        "outputId": "63b30dd1-98a0-4ba2-ce31-964bf1e592e3"
      },
      "source": [
        "# Crie uma outra variavel b que recebe o valor de a so que como string\r\n",
        "b= str(a)\r\n",
        "b"
      ],
      "execution_count": null,
      "outputs": [
        {
          "output_type": "execute_result",
          "data": {
            "application/vnd.google.colaboratory.intrinsic+json": {
              "type": "string"
            },
            "text/plain": [
              "'10'"
            ]
          },
          "metadata": {
            "tags": []
          },
          "execution_count": 7
        }
      ]
    },
    {
      "cell_type": "code",
      "metadata": {
        "collapsed": true,
        "id": "egb-JCZaOZ1o",
        "colab": {
          "base_uri": "https://localhost:8080/"
        },
        "outputId": "df75449f-4238-4665-d97a-16b3956b39d4"
      },
      "source": [
        "# Combine sua variavel b a variavel abaixo para obter a string \"Hello 10\" \n",
        "c = \"Hello\"\n",
        "\n",
        "print (c,\" \", b)"
      ],
      "execution_count": null,
      "outputs": [
        {
          "output_type": "stream",
          "text": [
            "Hello   10\n"
          ],
          "name": "stdout"
        }
      ]
    },
    {
      "cell_type": "markdown",
      "metadata": {
        "id": "yGEmVzjBOZ1o"
      },
      "source": [
        "### Strings"
      ]
    },
    {
      "cell_type": "code",
      "metadata": {
        "collapsed": true,
        "id": "-kosfy3gOZ1p"
      },
      "source": [
        "# my_str = 'Insira uma frase aqui!'\r\n",
        "\r\n",
        "my_str = 'Bom dia mundo!'"
      ],
      "execution_count": null,
      "outputs": []
    },
    {
      "cell_type": "code",
      "metadata": {
        "collapsed": true,
        "id": "VSS2zNM3OZ1p",
        "colab": {
          "base_uri": "https://localhost:8080/",
          "height": 35
        },
        "outputId": "c4f0ecb1-b54e-41b9-8578-70f49166f8b2"
      },
      "source": [
        "# Substitua a exclamação da frase por uma interrogação\n",
        "\n",
        "# aqui posso utiliar a função replace(), ela substitui parte de um texto por outro texto\"\n",
        "# replace(o que quero trocar, o que quero por no lugar)\n",
        "\n",
        "nova_mystr= my_str.replace(\"!\",\"?\")\n",
        "nova_mystr\n"
      ],
      "execution_count": null,
      "outputs": [
        {
          "output_type": "execute_result",
          "data": {
            "application/vnd.google.colaboratory.intrinsic+json": {
              "type": "string"
            },
            "text/plain": [
              "'Bom dia mundo?'"
            ]
          },
          "metadata": {
            "tags": []
          },
          "execution_count": 2
        }
      ]
    },
    {
      "cell_type": "code",
      "metadata": {
        "id": "AeixGXuOOZ1p",
        "colab": {
          "base_uri": "https://localhost:8080/"
        },
        "outputId": "49bc197c-149c-412d-95c5-224598a7cd9e"
      },
      "source": [
        "# Crie uma lista \"my_words\" com cada palavra a frase\r\n",
        "my_words = [my_str]\r\n",
        "my_words"
      ],
      "execution_count": null,
      "outputs": [
        {
          "output_type": "execute_result",
          "data": {
            "text/plain": [
              "['Bom dia mundo!']"
            ]
          },
          "metadata": {
            "tags": []
          },
          "execution_count": 3
        }
      ]
    },
    {
      "cell_type": "code",
      "metadata": {
        "colab": {
          "base_uri": "https://localhost:8080/"
        },
        "id": "CnZ77i0rLvkK",
        "outputId": "30126b69-eeb9-4755-df5b-c7a46baca6c9"
      },
      "source": [
        "print (len(my_words))\r\n",
        "\r\n",
        "# no caso essa lista tem um unico elemento que é toda a frase, mas posso usar a função split() para separar as palavras. \r\n",
        "# Como list () não possue essa função de separar, eu teria que fazer o fatiamento antes ou melhor, a função split já cria uma lista com cada uma das plavras \r\n",
        "\r\n",
        "lista_palavras = my_str.split()\r\n",
        "print (lista_palavras)\r\n",
        "\r\n",
        "print (len(lista_palavras))\r\n",
        "\r\n",
        "print (lista_palavras[2]) #CASO NÃO TENHA ESPAÇo E SIM UMA PONTUAÇÃO, ELE CRIA UMA LISTA COM UM UNICO ELEMENTO\r\n",
        "\r\n"
      ],
      "execution_count": null,
      "outputs": [
        {
          "output_type": "stream",
          "text": [
            "1\n",
            "['Bom', 'dia', 'mundo!']\n",
            "3\n",
            "mundo!\n"
          ],
          "name": "stdout"
        }
      ]
    },
    {
      "cell_type": "markdown",
      "metadata": {
        "id": "vo5yCER0OZ1q"
      },
      "source": [
        "### Listas"
      ]
    },
    {
      "cell_type": "code",
      "metadata": {
        "collapsed": true,
        "id": "XpQSmznBOZ1q"
      },
      "source": [
        "lista = [1, 23, 31, 40, 56, 16]"
      ],
      "execution_count": null,
      "outputs": []
    },
    {
      "cell_type": "code",
      "metadata": {
        "id": "0rtHexOdOZ1q",
        "colab": {
          "base_uri": "https://localhost:8080/"
        },
        "outputId": "979b44c4-7f8c-4f33-ec5d-342e329fcf72"
      },
      "source": [
        "# Faça um for que imprima cada elemento da lista \"lista\" (Lembre-se que o for em python é um for each)\r\n",
        "\r\n",
        "for i in lista :\r\n",
        "  print (i)"
      ],
      "execution_count": null,
      "outputs": [
        {
          "output_type": "stream",
          "text": [
            "1\n",
            "23\n",
            "31\n",
            "40\n",
            "56\n",
            "16\n"
          ],
          "name": "stdout"
        }
      ]
    },
    {
      "cell_type": "code",
      "metadata": {
        "id": "EkSW8lZrOZ1q",
        "colab": {
          "base_uri": "https://localhost:8080/"
        },
        "outputId": "5a0001ab-bcb3-4b73-c61a-cf8c381fc743"
      },
      "source": [
        "# Faça um for que imprima o dobro de cada elemento da lista \"lista\" \r\n",
        "\r\n",
        "for i in lista:\r\n",
        "  print (i*2)"
      ],
      "execution_count": null,
      "outputs": [
        {
          "output_type": "stream",
          "text": [
            "2\n",
            "46\n",
            "62\n",
            "80\n",
            "112\n",
            "32\n"
          ],
          "name": "stdout"
        }
      ]
    },
    {
      "cell_type": "code",
      "metadata": {
        "id": "rANC0H5EOZ1q",
        "colab": {
          "base_uri": "https://localhost:8080/"
        },
        "outputId": "069ff4fb-aef4-4db5-c411-512e28e72a01"
      },
      "source": [
        "# Gere uma lista chamada \"dobro\" com o dobro de cada elemento de \"lista\" usando list comprehension\r\n",
        "dobro = [i*2 for i in lista]\r\n",
        "dobro"
      ],
      "execution_count": null,
      "outputs": [
        {
          "output_type": "execute_result",
          "data": {
            "text/plain": [
              "[2, 46, 62, 80, 112, 32]"
            ]
          },
          "metadata": {
            "tags": []
          },
          "execution_count": 15
        }
      ]
    },
    {
      "cell_type": "code",
      "metadata": {
        "id": "-NAtqZ50OZ1r",
        "colab": {
          "base_uri": "https://localhost:8080/"
        },
        "outputId": "bc479766-6435-4e70-9ffe-e300049ff710"
      },
      "source": [
        "# Crie uma nova lista chamada \"pares\"\n",
        "# Faça um for que itetere sobre a lista \"lista\" e para cada elemento impar coloque ele no fim da lista \"pares\" --> impar na lista de pares??\n",
        "\n",
        "lista = [1, 23, 31, 40, 56, 16]\n",
        "\n",
        "pares =[]\n",
        "impares =[]\n",
        "\n",
        "# resolução com resposta em booleno\n",
        "\n",
        "for i in lista:\n",
        "  pares.append( i % 2 == 0)\n",
        "  impares.append ( i % 2 != 0)\n",
        "\n",
        "print (pares)\n",
        "print (impares)\n"
      ],
      "execution_count": null,
      "outputs": [
        {
          "output_type": "stream",
          "text": [
            "[False, False, False, True, True, True]\n",
            "[True, True, True, False, False, False]\n"
          ],
          "name": "stdout"
        }
      ]
    },
    {
      "cell_type": "code",
      "metadata": {
        "colab": {
          "base_uri": "https://localhost:8080/"
        },
        "id": "7PXkQgr8D44t",
        "outputId": "1c7ca914-f37c-4dc3-df83-04126cda53aa"
      },
      "source": [
        "# resolução com resposta como nummero\r\n",
        "\r\n",
        "pares2 =[]\r\n",
        "impares2 =[]\r\n",
        "\r\n",
        "\r\n",
        "for i in lista:\r\n",
        "  if i % 2 == 0:\r\n",
        "    pares2.append(i)\r\n",
        "  else:\r\n",
        "    impares2.append(i)\r\n",
        "  \r\n",
        "print (pares2)\r\n",
        "print (impares2)  "
      ],
      "execution_count": null,
      "outputs": [
        {
          "output_type": "stream",
          "text": [
            "[40, 56, 16]\n",
            "[1, 23, 31]\n"
          ],
          "name": "stdout"
        }
      ]
    },
    {
      "cell_type": "code",
      "metadata": {
        "colab": {
          "base_uri": "https://localhost:8080/"
        },
        "id": "ycwBoWVy_js8",
        "outputId": "86c2fd58-9fe9-45ac-d469-d3aa89adffa8"
      },
      "source": [
        "# resolução usando o list comprehension\r\n",
        "pares3 = [num for num in lista if num % 2 == 0]\r\n",
        "print (\"Pares: \", pares3)\r\n",
        "\r\n",
        "impares3 = [num for num in lista if num % 2 != 0]\r\n",
        "print (\"Imares: \", impares3)"
      ],
      "execution_count": null,
      "outputs": [
        {
          "output_type": "stream",
          "text": [
            "Pares:  [40, 56, 16]\n",
            "Imares:  [1, 23, 31]\n"
          ],
          "name": "stdout"
        }
      ]
    },
    {
      "cell_type": "code",
      "metadata": {
        "collapsed": true,
        "id": "Y8TfIxAXOZ1r"
      },
      "source": [
        "lista2 = ['oi', 2, 2.5, 'top', 'python', 45]"
      ],
      "execution_count": 5,
      "outputs": []
    },
    {
      "cell_type": "code",
      "metadata": {
        "collapsed": true,
        "colab": {
          "base_uri": "https://localhost:8080/"
        },
        "id": "Rl1WTsThReiA",
        "outputId": "dee19de9-b050-4533-e2e6-7e51e2bb1c5c"
      },
      "source": [
        "# Faça um for pela \"lista2\" e imprima todos os elementos que são strings\r\n",
        "\r\n",
        "for i in lista2:\r\n",
        "  if (type (i) == str): \r\n",
        "    print (i)\r\n"
      ],
      "execution_count": 44,
      "outputs": [
        {
          "output_type": "stream",
          "text": [
            "oi\n",
            "top\n",
            "python\n"
          ],
          "name": "stdout"
        }
      ]
    },
    {
      "cell_type": "code",
      "metadata": {
        "collapsed": true,
        "id": "fQk2HHc8OZ1r",
        "colab": {
          "base_uri": "https://localhost:8080/"
        },
        "outputId": "aafe3187-cd98-407c-a165-9ca57424625e"
      },
      "source": [
        "# Faça um for pela \"lista2\" e imprima todos os elementos que são strings\r\n",
        "\r\n",
        "for i in lista2:\r\n",
        "  if isinstance(i,str):\r\n",
        "    print (i)\r\n"
      ],
      "execution_count": 43,
      "outputs": [
        {
          "output_type": "stream",
          "text": [
            "oi\n",
            "top\n",
            "python\n"
          ],
          "name": "stdout"
        }
      ]
    },
    {
      "cell_type": "markdown",
      "metadata": {
        "id": "Dj8nBZg1OZ1r"
      },
      "source": [
        "#### Indexando"
      ]
    },
    {
      "cell_type": "code",
      "metadata": {
        "collapsed": true,
        "id": "ucdlKNHwOZ1r"
      },
      "source": [
        "my_list = [0, 10, 20, 30, 40, 50, 60, 70]"
      ],
      "execution_count": 45,
      "outputs": []
    },
    {
      "cell_type": "code",
      "metadata": {
        "collapsed": true,
        "id": "xkg7kXUEOZ1s",
        "colab": {
          "base_uri": "https://localhost:8080/"
        },
        "outputId": "63ca9b21-6948-4be9-ddad-4a745953c9fd"
      },
      "source": [
        "# Selecione o ultimo elemento da lista\r\n",
        "\r\n",
        "my_list[-1]"
      ],
      "execution_count": 46,
      "outputs": [
        {
          "output_type": "execute_result",
          "data": {
            "text/plain": [
              "70"
            ]
          },
          "metadata": {
            "tags": []
          },
          "execution_count": 46
        }
      ]
    },
    {
      "cell_type": "code",
      "metadata": {
        "collapsed": true,
        "id": "8eq4x0rUOZ1s",
        "colab": {
          "base_uri": "https://localhost:8080/"
        },
        "outputId": "f54d1bc5-320b-4fea-9af2-24daf73a8f29"
      },
      "source": [
        "# Selecione do primeiro até o 4 elemento da lista\r\n",
        "my_list[0:4]"
      ],
      "execution_count": 48,
      "outputs": [
        {
          "output_type": "execute_result",
          "data": {
            "text/plain": [
              "[0, 10, 20, 30]"
            ]
          },
          "metadata": {
            "tags": []
          },
          "execution_count": 48
        }
      ]
    },
    {
      "cell_type": "code",
      "metadata": {
        "collapsed": true,
        "id": "2TxQEuLeOZ1t",
        "colab": {
          "base_uri": "https://localhost:8080/"
        },
        "outputId": "2fc014cb-34e5-49c1-81a6-4323a015718e"
      },
      "source": [
        "# Selecione do segundo elemento da lista até o quinto\r\n",
        "my_list[1:5]"
      ],
      "execution_count": 49,
      "outputs": [
        {
          "output_type": "execute_result",
          "data": {
            "text/plain": [
              "[10, 20, 30, 40]"
            ]
          },
          "metadata": {
            "tags": []
          },
          "execution_count": 49
        }
      ]
    },
    {
      "cell_type": "code",
      "metadata": {
        "collapsed": true,
        "id": "fImfb6FYOZ1t",
        "colab": {
          "base_uri": "https://localhost:8080/"
        },
        "outputId": "d52ebebf-b019-42eb-fe4f-e11f69f402d3"
      },
      "source": [
        "# Selecione do primeiro elemento da lista até o penultimo\r\n",
        "my_list[0:-1]"
      ],
      "execution_count": 53,
      "outputs": [
        {
          "output_type": "execute_result",
          "data": {
            "text/plain": [
              "[0, 10, 20, 30, 40, 50, 60]"
            ]
          },
          "metadata": {
            "tags": []
          },
          "execution_count": 53
        }
      ]
    },
    {
      "cell_type": "code",
      "metadata": {
        "id": "K1cWtKXkXgJy"
      },
      "source": [
        "uma_lista = [3, 67, \"gato\", [56, 57, \"cachorro\"], [ ], 3.14, False]"
      ],
      "execution_count": 54,
      "outputs": []
    },
    {
      "cell_type": "code",
      "metadata": {
        "colab": {
          "base_uri": "https://localhost:8080/"
        },
        "id": "90ZL1-hNXnC9",
        "outputId": "29aa2822-7481-431a-c0f4-12e97cfb3486"
      },
      "source": [
        "#imprima o quinto elemento da lista\r\n",
        "print(uma_lista[5])"
      ],
      "execution_count": 56,
      "outputs": [
        {
          "output_type": "stream",
          "text": [
            "3.14\n"
          ],
          "name": "stdout"
        }
      ]
    },
    {
      "cell_type": "code",
      "metadata": {
        "colab": {
          "base_uri": "https://localhost:8080/"
        },
        "id": "HxckMRArXpV8",
        "outputId": "7852e278-d87b-48c8-cde7-7bcd5e848897"
      },
      "source": [
        "#imprima a palagra gato em caixa alta\r\n",
        "print(uma_lista[2].upper())"
      ],
      "execution_count": 55,
      "outputs": [
        {
          "output_type": "stream",
          "text": [
            "GATO\n"
          ],
          "name": "stdout"
        }
      ]
    },
    {
      "cell_type": "code",
      "metadata": {
        "colab": {
          "base_uri": "https://localhost:8080/"
        },
        "id": "gacNtF4OXnvk",
        "outputId": "218c48c5-e107-4273-dab9-ea0a2aee38f7"
      },
      "source": [
        "# imprima somente a primeira letra da palavra gato\r\n",
        "print(uma_lista[2][0])"
      ],
      "execution_count": 57,
      "outputs": [
        {
          "output_type": "stream",
          "text": [
            "g\n"
          ],
          "name": "stdout"
        }
      ]
    },
    {
      "cell_type": "markdown",
      "metadata": {
        "id": "NeBx9ed_OZ1u"
      },
      "source": [
        "### Dicionários"
      ]
    },
    {
      "cell_type": "code",
      "metadata": {
        "collapsed": true,
        "id": "guet78fDOZ1u"
      },
      "source": [
        "lista = ['a', 'a', 'b', 'a', 'c', 'd', 'e', 'b', 'b', 'c']"
      ],
      "execution_count": 58,
      "outputs": []
    },
    {
      "cell_type": "code",
      "metadata": {
        "collapsed": true,
        "id": "8tQ_HiJxOZ1u"
      },
      "source": [
        "# Crie um dicionario que contenha a contagem de cada elemento do vetor\n",
        "my_dict1 = {}\n",
        "my_dict1 = len(lista)\n"
      ],
      "execution_count": 69,
      "outputs": []
    },
    {
      "cell_type": "code",
      "metadata": {
        "id": "XbxrFCn6OZ1u",
        "colab": {
          "base_uri": "https://localhost:8080/"
        },
        "outputId": "12ac4ce0-eef6-493c-c290-2c08c8470881"
      },
      "source": [
        "print(my_dict)"
      ],
      "execution_count": 70,
      "outputs": [
        {
          "output_type": "stream",
          "text": [
            "10\n"
          ],
          "name": "stdout"
        }
      ]
    },
    {
      "cell_type": "markdown",
      "metadata": {
        "id": "RxxT8jRuOZ1v"
      },
      "source": [
        "### Funções"
      ]
    },
    {
      "cell_type": "code",
      "metadata": {
        "collapsed": true,
        "id": "yob_F-KCOZ1v"
      },
      "source": [
        "# Crie uma função soma_elementos() que recebe uma lista e retorna a soma de todos os seus elementos\n",
        "def soma_elementos(lista):\n",
        "  soma = sum(lista)\n",
        "  return soma"
      ],
      "execution_count": 102,
      "outputs": []
    },
    {
      "cell_type": "code",
      "metadata": {
        "id": "fRpi44ZDOZ1v",
        "colab": {
          "base_uri": "https://localhost:8080/"
        },
        "outputId": "fcbd7e26-57cd-47a6-89e9-dbf158296f7f"
      },
      "source": [
        "\r\n",
        "soma_elementos([1, 2, 3, 4, 5])"
      ],
      "execution_count": 103,
      "outputs": [
        {
          "output_type": "execute_result",
          "data": {
            "text/plain": [
              "15"
            ]
          },
          "metadata": {
            "tags": []
          },
          "execution_count": 103
        }
      ]
    },
    {
      "cell_type": "code",
      "metadata": {
        "id": "YN3hHRwfOZ1w",
        "colab": {
          "base_uri": "https://localhost:8080/"
        },
        "outputId": "96d74042-f463-403a-a573-21bb5d7a945d"
      },
      "source": [
        "soma_elementos([-1, 5, 7, -2])"
      ],
      "execution_count": 104,
      "outputs": [
        {
          "output_type": "execute_result",
          "data": {
            "text/plain": [
              "9"
            ]
          },
          "metadata": {
            "tags": []
          },
          "execution_count": 104
        }
      ]
    },
    {
      "cell_type": "code",
      "metadata": {
        "collapsed": true,
        "id": "uXd1Rx28OZ1w"
      },
      "source": [
        "# Crie uma função produto_escalar() que recebe duas listas de tamanho igual e calcula o produto escalar entre elas\n",
        "# Dica: Utilize a função zip\n",
        "\n",
        "def produto_escalar (l1,l2):\n",
        "  l3 = []\n",
        "\n",
        "  for i in zip(l1,l2):\n",
        "    l3.append (i[0] * i[1])\n",
        "    prod_escalar = sum(l3)\n",
        "  return prod_escalar"
      ],
      "execution_count": 130,
      "outputs": []
    },
    {
      "cell_type": "code",
      "metadata": {
        "id": "F0VRnOF1OZ1w",
        "colab": {
          "base_uri": "https://localhost:8080/"
        },
        "outputId": "a5bb6b0d-4580-4c25-cf6d-bc486769db8e"
      },
      "source": [
        "print (produto_escalar([1, 2, 3], [0, 4, 7]))\r\n",
        "\r\n",
        "print (produto_escalar([10, 20, 40, 1], [23, 4, 2, 1]))"
      ],
      "execution_count": 133,
      "outputs": [
        {
          "output_type": "stream",
          "text": [
            "29\n",
            "391\n"
          ],
          "name": "stdout"
        }
      ]
    },
    {
      "cell_type": "code",
      "metadata": {
        "collapsed": true,
        "id": "KyoQab3wOZ1w",
        "colab": {
          "base_uri": "https://localhost:8080/"
        },
        "outputId": "236bf0d2-41fb-4157-a12a-e86cd0614369"
      },
      "source": [
        "# usando list comprehension\r\n",
        "\r\n",
        "def produto_escalar (l1,l2):\r\n",
        "  prod_escalar = sum ([i[0]*i[1]  for i in zip(l1,l2)])\r\n",
        "  return prod_escalar\r\n",
        "\r\n",
        "\r\n",
        "print (produto_escalar([1, 2, 3], [0, 4, 7]))\r\n",
        "\r\n",
        "print (produto_escalar([10, 20, 40, 1], [23, 4, 2, 1]))"
      ],
      "execution_count": 137,
      "outputs": [
        {
          "output_type": "stream",
          "text": [
            "29\n",
            "391\n"
          ],
          "name": "stdout"
        }
      ]
    },
    {
      "cell_type": "code",
      "metadata": {
        "collapsed": true,
        "id": "hKjpSyQCOZ1w"
      },
      "source": [
        "# Crie uma função par_ou_impar() que recebe um numero n é para cada numero de 1 a n imprime o numero\n",
        "# seguido de par ou impar, dependendo do que ele seja. Caso o usuário não coloque nada n deve valer 20\n",
        "# Exemplo: par_ou_impar(4)\n",
        "#   1 Impar\n",
        "#   2 Par\n",
        "#   3 Impar\n",
        "#   4 Par\n",
        "\n",
        "\n",
        "def par_ou_impar(n):\n",
        "  \n",
        "  if n==None:\n",
        "      print (\"20\")\n",
        "     \n",
        "  for i in range (0, n):\n",
        "    num = [\"par\" if i % 2 == 0 else \"impar\"]\n",
        "    print (i, num)"
      ],
      "execution_count": 171,
      "outputs": []
    },
    {
      "cell_type": "code",
      "metadata": {
        "collapsed": true,
        "id": "e1PeDMTPOZ1w",
        "colab": {
          "base_uri": "https://localhost:8080/"
        },
        "outputId": "5ae705db-2731-4513-aeb9-fb47233f8231"
      },
      "source": [
        "par_ou_impar(15)"
      ],
      "execution_count": 167,
      "outputs": [
        {
          "output_type": "stream",
          "text": [
            "0 ['par']\n",
            "1 ['impar']\n",
            "2 ['par']\n",
            "3 ['impar']\n",
            "4 ['par']\n",
            "5 ['impar']\n",
            "6 ['par']\n",
            "7 ['impar']\n",
            "8 ['par']\n",
            "9 ['impar']\n",
            "10 ['par']\n",
            "11 ['impar']\n",
            "12 ['par']\n",
            "13 ['impar']\n",
            "14 ['par']\n"
          ],
          "name": "stdout"
        }
      ]
    },
    {
      "cell_type": "code",
      "metadata": {
        "collapsed": true,
        "id": "SUZ12NqDOZ1x",
        "colab": {
          "base_uri": "https://localhost:8080/"
        },
        "outputId": "554953ed-ccb2-4db3-d39f-b615ac00cb2c"
      },
      "source": [
        "par_ou_impar(3)"
      ],
      "execution_count": 169,
      "outputs": [
        {
          "output_type": "stream",
          "text": [
            "0 ['par']\n",
            "1 ['impar']\n",
            "2 ['par']\n"
          ],
          "name": "stdout"
        }
      ]
    },
    {
      "cell_type": "code",
      "metadata": {
        "collapsed": true,
        "id": "-CORGikNOZ1x"
      },
      "source": [
        "# Crie uma função diga_indice() que recebe uma lista e imprime o indice de cada elemento e em seguida o proprio elemento\n",
        "# Exemplo: diga_indice(['oi', 'tudo', 'bem'])\n",
        "#    0 oi\n",
        "#    1 tudo\n",
        "#    2 bem\n",
        "# (DICA: Pesquise pela função enumerate)\n",
        "\n",
        "def diga_indice(lista):\n",
        "  for posição,elemento in enumerate (lista):\n",
        "    print (f\"#{posição + 1} - {elemento}\")  # o F aqui siginifica imprima com esse formato, sem ele só aparece p texto qu está dentro das aspas:\n",
        "                                            # Para usar strings literais formatadas (f-strings), comece uma string com f ou F, antes de abrir as \n",
        "                                            # aspas ou aspas triplas. \n",
        "                                            # Dentro dessa string, pode-se escrever uma expressão Python entre caracteres { e }, que podem \n",
        "                                            # se referir a variáveis, ou valores literais.\n",
        "\n",
        "                                                     #>>> year = 2016\n",
        "                                                     #>>> event = 'Referendum'\n",
        "                                                     #>>> f'Results of the {year} {event}'\n",
        "                                                     #'Results of the 2016 Referendum'\n",
        "\n",
        "                                          # f-strings permite que se inclua o valor de expressões Python dentro de uma string, prefixando-a com\n",
        "                                          # f ou F e escrevendo expressões na forma {expression}.\n",
        "                                                      #  >>> import math\n",
        "                                                      #>>> print(f'The value of pi is approximately {math.pi:.3f}.')\n",
        "                                                      # The value of pi is approximately 3.142.\n",
        "\n",
        "                                          # Passando um inteiro após o ':' fará com que o campo tenha um número mínimo de caracteres de largura.\n",
        "                                          #  Isso é útil para alinhar colunas.\n",
        "\n",
        "                                                       #>>> table = {'Sjoerd': 4127, 'Jack': 4098, 'Dcab': 7678}\n",
        "                                                       #>>> for name, phone in table.items():\n",
        "                                                       #...     print(f'{name:10} ==> {phone:10d}')\n",
        "                                                       # Sjoerd     ==>       4127\n",
        "                                                       # Jack       ==>       4098\n",
        "                                                       # Dcab       ==>       7678\n",
        "\n",
        "                                "
      ],
      "execution_count": 3,
      "outputs": []
    },
    {
      "cell_type": "code",
      "metadata": {
        "collapsed": true,
        "id": "V4bbn38FOZ1x",
        "colab": {
          "base_uri": "https://localhost:8080/"
        },
        "outputId": "3885d123-8336-447a-9719-80cfd32bbc11"
      },
      "source": [
        "diga_indice(['1', '2', '3'])"
      ],
      "execution_count": 4,
      "outputs": [
        {
          "output_type": "stream",
          "name": "stdout",
          "text": [
            "#1 - 1\n#2 - 2\n#3 - 3\n"
          ]
        }
      ]
    },
    {
      "cell_type": "code",
      "metadata": {
        "collapsed": true,
        "id": "HamAQxAjOZ1x",
        "colab": {
          "base_uri": "https://localhost:8080/"
        },
        "outputId": "cd6c9082-f4f7-48db-e6e0-20b7448074e2"
      },
      "source": [
        "diga_indice(['a', 'b', 'c', 'd', 'e'])"
      ],
      "execution_count": 177,
      "outputs": [
        {
          "output_type": "stream",
          "text": [
            "#1 - a\n",
            "#2 - b\n",
            "#3 - c\n",
            "#4 - d\n",
            "#5 - e\n"
          ],
          "name": "stdout"
        }
      ]
    }
  ]
}